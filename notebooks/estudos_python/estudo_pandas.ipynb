{
 "cells": [
  {
   "cell_type": "markdown",
   "metadata": {},
   "source": [
    "**Estudo Pandas**"
   ]
  },
  {
   "cell_type": "code",
   "execution_count": 43,
   "metadata": {},
   "outputs": [],
   "source": [
    "import pandas as pd\n",
    "import numpy as np"
   ]
  },
  {
   "cell_type": "markdown",
   "metadata": {},
   "source": [
    "<br>**Série**"
   ]
  },
  {
   "cell_type": "code",
   "execution_count": 44,
   "metadata": {},
   "outputs": [
    {
     "name": "stdout",
     "output_type": "stream",
     "text": [
      "0      1\n",
      "1      3\n",
      "2      5\n",
      "3      8\n",
      "4      6\n",
      "5    110\n",
      "dtype: int64\n"
     ]
    }
   ],
   "source": [
    "#visualizando uma serie do pandas (primeira coluna = indice , segunda = valores)\n",
    "s= pd.Series([1,3,5,8,6,110])\n",
    "print(s)"
   ]
  },
  {
   "cell_type": "code",
   "execution_count": 45,
   "metadata": {},
   "outputs": [
    {
     "name": "stdout",
     "output_type": "stream",
     "text": [
      "1\n",
      "2    5\n",
      "3    8\n",
      "dtype: int64\n"
     ]
    }
   ],
   "source": [
    "#acessando o elemento1\n",
    "print(s[0])\n",
    "#acessando os elementos 3 e 4\n",
    "print(s[2:4])\n"
   ]
  },
  {
   "cell_type": "markdown",
   "metadata": {},
   "source": [
    "<br>Dados basicos da serie"
   ]
  },
  {
   "cell_type": "code",
   "execution_count": 46,
   "metadata": {},
   "outputs": [
    {
     "data": {
      "text/plain": [
       "count      6.000000\n",
       "mean      22.166667\n",
       "std       43.097177\n",
       "min        1.000000\n",
       "25%        3.500000\n",
       "50%        5.500000\n",
       "75%        7.500000\n",
       "max      110.000000\n",
       "dtype: float64"
      ]
     },
     "execution_count": 46,
     "metadata": {},
     "output_type": "execute_result"
    }
   ],
   "source": [
    "# mostrando dados estatisticos gerais da serie\n",
    "#\n",
    "#  mean = media\n",
    "#  std = desvio padrao ?\n",
    "#  median = mediana\n",
    "#\n",
    "#\n",
    "s.describe()"
   ]
  },
  {
   "cell_type": "code",
   "execution_count": 47,
   "metadata": {},
   "outputs": [
    {
     "name": "stdout",
     "output_type": "stream",
     "text": [
      "22.166666666666668\n",
      "5.5\n"
     ]
    }
   ],
   "source": [
    "#tambem e possivel chamar em separado\n",
    "print(s.mean())\n",
    "#mas tem outras coisas\n",
    "print(s.median())"
   ]
  },
  {
   "cell_type": "code",
   "execution_count": 48,
   "metadata": {},
   "outputs": [
    {
     "data": {
      "text/plain": [
       "0    False\n",
       "1    False\n",
       "2    False\n",
       "3    False\n",
       "4    False\n",
       "5    False\n",
       "dtype: bool"
      ]
     },
     "execution_count": 48,
     "metadata": {},
     "output_type": "execute_result"
    }
   ],
   "source": [
    "#tambem e possivel verificar se existem valores duplicados\n",
    "s.duplicated()"
   ]
  },
  {
   "cell_type": "code",
   "execution_count": 49,
   "metadata": {},
   "outputs": [
    {
     "name": "stdout",
     "output_type": "stream",
     "text": [
      "0      1\n",
      "1      3\n",
      "2      5\n",
      "3      8\n",
      "4      6\n",
      "5    110\n",
      "0      4\n",
      "1     99\n",
      "2      1\n",
      "dtype: int64\n"
     ]
    }
   ],
   "source": [
    "# uma outra possibilidade e apendar uma serie na outra\n",
    "s2= pd.Series([4,99,1])\n",
    "s3=s.append(s2)\n",
    "print(s3)\n"
   ]
  },
  {
   "cell_type": "code",
   "execution_count": 50,
   "metadata": {},
   "outputs": [
    {
     "name": "stdout",
     "output_type": "stream",
     "text": [
      "0      1\n",
      "1      3\n",
      "2      5\n",
      "3      8\n",
      "4      6\n",
      "5    110\n",
      "6      4\n",
      "7     99\n",
      "8      1\n",
      "dtype: int64\n"
     ]
    }
   ],
   "source": [
    "# no exemplo anterior os indices estao duplicados para evitar este comportamento e preciso usar o parametro \"ignore_index=True\"\n",
    "s4=s.append(s2,ignore_index=True)\n",
    "print(s4)"
   ]
  },
  {
   "cell_type": "markdown",
   "metadata": {},
   "source": [
    "<br>**Dataframe**"
   ]
  },
  {
   "cell_type": "code",
   "execution_count": 51,
   "metadata": {},
   "outputs": [
    {
     "data": {
      "text/html": [
       "<div>\n",
       "<style scoped>\n",
       "    .dataframe tbody tr th:only-of-type {\n",
       "        vertical-align: middle;\n",
       "    }\n",
       "\n",
       "    .dataframe tbody tr th {\n",
       "        vertical-align: top;\n",
       "    }\n",
       "\n",
       "    .dataframe thead th {\n",
       "        text-align: right;\n",
       "    }\n",
       "</style>\n",
       "<table border=\"1\" class=\"dataframe\">\n",
       "  <thead>\n",
       "    <tr style=\"text-align: right;\">\n",
       "      <th></th>\n",
       "      <th>0</th>\n",
       "      <th>1</th>\n",
       "    </tr>\n",
       "  </thead>\n",
       "  <tbody>\n",
       "    <tr>\n",
       "      <th>0</th>\n",
       "      <td>elemento1</td>\n",
       "      <td>3347</td>\n",
       "    </tr>\n",
       "    <tr>\n",
       "      <th>1</th>\n",
       "      <td>elemento2</td>\n",
       "      <td>347</td>\n",
       "    </tr>\n",
       "    <tr>\n",
       "      <th>2</th>\n",
       "      <td>elemento3</td>\n",
       "      <td>3444347</td>\n",
       "    </tr>\n",
       "  </tbody>\n",
       "</table>\n",
       "</div>"
      ],
      "text/plain": [
       "           0        1\n",
       "0  elemento1     3347\n",
       "1  elemento2      347\n",
       "2  elemento3  3444347"
      ]
     },
     "execution_count": 51,
     "metadata": {},
     "output_type": "execute_result"
    }
   ],
   "source": [
    "df = pd.DataFrame([['elemento1',3347],['elemento2',347],['elemento3',3444347]])\n",
    "df"
   ]
  },
  {
   "cell_type": "code",
   "execution_count": 52,
   "metadata": {},
   "outputs": [
    {
     "data": {
      "text/plain": [
       "(3, 2)"
      ]
     },
     "execution_count": 52,
     "metadata": {},
     "output_type": "execute_result"
    }
   ],
   "source": [
    "# verificando as dimensoes do dataframe (LINHAS X COLUNAS)\n",
    "df.shape"
   ]
  },
  {
   "cell_type": "code",
   "execution_count": 53,
   "metadata": {},
   "outputs": [
    {
     "data": {
      "text/html": [
       "<div>\n",
       "<style scoped>\n",
       "    .dataframe tbody tr th:only-of-type {\n",
       "        vertical-align: middle;\n",
       "    }\n",
       "\n",
       "    .dataframe tbody tr th {\n",
       "        vertical-align: top;\n",
       "    }\n",
       "\n",
       "    .dataframe thead th {\n",
       "        text-align: right;\n",
       "    }\n",
       "</style>\n",
       "<table border=\"1\" class=\"dataframe\">\n",
       "  <thead>\n",
       "    <tr style=\"text-align: right;\">\n",
       "      <th></th>\n",
       "      <th>Coluna1</th>\n",
       "      <th>Coluna2</th>\n",
       "    </tr>\n",
       "  </thead>\n",
       "  <tbody>\n",
       "    <tr>\n",
       "      <th>0</th>\n",
       "      <td>elemento1</td>\n",
       "      <td>3347</td>\n",
       "    </tr>\n",
       "    <tr>\n",
       "      <th>1</th>\n",
       "      <td>elemento2</td>\n",
       "      <td>347</td>\n",
       "    </tr>\n",
       "    <tr>\n",
       "      <th>2</th>\n",
       "      <td>elemento3</td>\n",
       "      <td>3444347</td>\n",
       "    </tr>\n",
       "  </tbody>\n",
       "</table>\n",
       "</div>"
      ],
      "text/plain": [
       "     Coluna1  Coluna2\n",
       "0  elemento1     3347\n",
       "1  elemento2      347\n",
       "2  elemento3  3444347"
      ]
     },
     "execution_count": 53,
     "metadata": {},
     "output_type": "execute_result"
    }
   ],
   "source": [
    "# declarando o dataframe novamente trocando os indices de coluna por nomes\n",
    "df = pd.DataFrame([['elemento1',3347],['elemento2',347],['elemento3',3444347]],columns=['Coluna1','Coluna2'])\n",
    "df"
   ]
  },
  {
   "cell_type": "code",
   "execution_count": 54,
   "metadata": {},
   "outputs": [
    {
     "name": "stdout",
     "output_type": "stream",
     "text": [
      "0       3347\n",
      "1        347\n",
      "2    3444347\n",
      "Name: Coluna2, dtype: int64\n"
     ]
    },
    {
     "data": {
      "text/plain": [
       "count    3.000000e+00\n",
       "mean     1.149347e+06\n",
       "std      1.987529e+06\n",
       "min      3.470000e+02\n",
       "25%      1.847000e+03\n",
       "50%      3.347000e+03\n",
       "75%      1.723847e+06\n",
       "max      3.444347e+06\n",
       "Name: Coluna2, dtype: float64"
      ]
     },
     "execution_count": 54,
     "metadata": {},
     "output_type": "execute_result"
    }
   ],
   "source": [
    "# recuperando os elementos de uma coluna (lembrando que o retorno e sempre uma serie)\n",
    "col2=df['Coluna2']\n",
    "print(col2)\n",
    "col2.describe()"
   ]
  },
  {
   "cell_type": "code",
   "execution_count": 55,
   "metadata": {},
   "outputs": [
    {
     "name": "stdout",
     "output_type": "stream",
     "text": [
      "Coluna1    elemento2\n",
      "Coluna2          347\n",
      "Name: 1, dtype: object\n",
      "347\n"
     ]
    }
   ],
   "source": [
    "# para recuperar uma linha do dataframe e necessario utilizar a funcao iloc ( o retorno e um dicionario)\n",
    "print(df.iloc[1])\n",
    "print(df.iloc[1]['Coluna2'])\n"
   ]
  },
  {
   "cell_type": "markdown",
   "metadata": {},
   "source": [
    "<br>Pandas Index"
   ]
  },
  {
   "cell_type": "code",
   "execution_count": 56,
   "metadata": {},
   "outputs": [
    {
     "data": {
      "text/html": [
       "<div>\n",
       "<style scoped>\n",
       "    .dataframe tbody tr th:only-of-type {\n",
       "        vertical-align: middle;\n",
       "    }\n",
       "\n",
       "    .dataframe tbody tr th {\n",
       "        vertical-align: top;\n",
       "    }\n",
       "\n",
       "    .dataframe thead th {\n",
       "        text-align: right;\n",
       "    }\n",
       "</style>\n",
       "<table border=\"1\" class=\"dataframe\">\n",
       "  <thead>\n",
       "    <tr style=\"text-align: right;\">\n",
       "      <th></th>\n",
       "      <th>Sigla</th>\n",
       "      <th>Nome</th>\n",
       "      <th>Capital</th>\n",
       "    </tr>\n",
       "  </thead>\n",
       "  <tbody>\n",
       "    <tr>\n",
       "      <th>0</th>\n",
       "      <td>PE</td>\n",
       "      <td>Pernambuco</td>\n",
       "      <td>Recife</td>\n",
       "    </tr>\n",
       "    <tr>\n",
       "      <th>1</th>\n",
       "      <td>RJ</td>\n",
       "      <td>Rio de Janeiro</td>\n",
       "      <td>Rio de Janeiro</td>\n",
       "    </tr>\n",
       "    <tr>\n",
       "      <th>2</th>\n",
       "      <td>PB</td>\n",
       "      <td>Paraíba</td>\n",
       "      <td>João Pessoa</td>\n",
       "    </tr>\n",
       "    <tr>\n",
       "      <th>3</th>\n",
       "      <td>SP</td>\n",
       "      <td>São Paulo</td>\n",
       "      <td>São Paulo</td>\n",
       "    </tr>\n",
       "    <tr>\n",
       "      <th>4</th>\n",
       "      <td>MG</td>\n",
       "      <td>Minas Gerais</td>\n",
       "      <td>Belo Horizonte</td>\n",
       "    </tr>\n",
       "    <tr>\n",
       "      <th>5</th>\n",
       "      <td>CE</td>\n",
       "      <td>Ceará</td>\n",
       "      <td>Fortaleza</td>\n",
       "    </tr>\n",
       "    <tr>\n",
       "      <th>6</th>\n",
       "      <td>AC</td>\n",
       "      <td>Acre</td>\n",
       "      <td>Rio Branco</td>\n",
       "    </tr>\n",
       "    <tr>\n",
       "      <th>7</th>\n",
       "      <td>MA</td>\n",
       "      <td>Maranhão</td>\n",
       "      <td>São Luís</td>\n",
       "    </tr>\n",
       "    <tr>\n",
       "      <th>8</th>\n",
       "      <td>RN</td>\n",
       "      <td>Rio Grande do Norte</td>\n",
       "      <td>Natal</td>\n",
       "    </tr>\n",
       "    <tr>\n",
       "      <th>9</th>\n",
       "      <td>PR</td>\n",
       "      <td>Paraná</td>\n",
       "      <td>Curitiba</td>\n",
       "    </tr>\n",
       "    <tr>\n",
       "      <th>10</th>\n",
       "      <td>RS</td>\n",
       "      <td>Rio Grande do Sul</td>\n",
       "      <td>Porto Alegre</td>\n",
       "    </tr>\n",
       "  </tbody>\n",
       "</table>\n",
       "</div>"
      ],
      "text/plain": [
       "   Sigla                 Nome         Capital\n",
       "0     PE           Pernambuco          Recife\n",
       "1     RJ       Rio de Janeiro  Rio de Janeiro\n",
       "2     PB              Paraíba     João Pessoa\n",
       "3     SP            São Paulo       São Paulo\n",
       "4     MG         Minas Gerais  Belo Horizonte\n",
       "5     CE                Ceará       Fortaleza\n",
       "6     AC                 Acre      Rio Branco\n",
       "7     MA             Maranhão        São Luís\n",
       "8     RN  Rio Grande do Norte           Natal\n",
       "9     PR               Paraná        Curitiba\n",
       "10    RS    Rio Grande do Sul    Porto Alegre"
      ]
     },
     "execution_count": 56,
     "metadata": {},
     "output_type": "execute_result"
    }
   ],
   "source": [
    "df = pd.DataFrame(\n",
    "        [\n",
    "            ['PE', 'Pernambuco', 'Recife'], ['RJ', 'Rio de Janeiro', 'Rio de Janeiro'],\n",
    "            ['PB', 'Paraíba', 'João Pessoa'], ['SP', 'São Paulo', 'São Paulo'],\n",
    "            ['MG', 'Minas Gerais', 'Belo Horizonte'], ['CE', 'Ceará', 'Fortaleza'],\n",
    "            ['AC', 'Acre', 'Rio Branco'], ['MA', 'Maranhão', 'São Luís'], ['RN', 'Rio Grande do Norte', 'Natal'],\n",
    "            ['PR', 'Paraná', 'Curitiba'], ['RS', 'Rio Grande do Sul', 'Porto Alegre']\n",
    "        ], columns=['Sigla', 'Nome', 'Capital'],\n",
    "    )\n",
    "df"
   ]
  },
  {
   "cell_type": "code",
   "execution_count": 57,
   "metadata": {},
   "outputs": [
    {
     "data": {
      "text/plain": [
       "RangeIndex(start=0, stop=11, step=1)"
      ]
     },
     "execution_count": 57,
     "metadata": {},
     "output_type": "execute_result"
    }
   ],
   "source": [
    "#para descobrir como seu dataframe esta sendo indexado no momento\n",
    "df.index"
   ]
  },
  {
   "cell_type": "code",
   "execution_count": 58,
   "metadata": {},
   "outputs": [
    {
     "data": {
      "text/plain": [
       "Sigla              PE\n",
       "Nome       Pernambuco\n",
       "Capital        Recife\n",
       "Name: 0, dtype: object"
      ]
     },
     "execution_count": 58,
     "metadata": {},
     "output_type": "execute_result"
    }
   ],
   "source": [
    "#recuperando a linha que esta com o indice 0\n",
    "df.loc[0]"
   ]
  },
  {
   "cell_type": "code",
   "execution_count": 59,
   "metadata": {},
   "outputs": [
    {
     "name": "stdout",
     "output_type": "stream",
     "text": [
      "   Sigla                 Nome         Capital\n",
      "1     PE           Pernambuco          Recife\n",
      "2     RJ       Rio de Janeiro  Rio de Janeiro\n",
      "3     PB              Paraíba     João Pessoa\n",
      "4     SP            São Paulo       São Paulo\n",
      "5     MG         Minas Gerais  Belo Horizonte\n",
      "6     CE                Ceará       Fortaleza\n",
      "7     AC                 Acre      Rio Branco\n",
      "8     MA             Maranhão        São Luís\n",
      "9     RN  Rio Grande do Norte           Natal\n",
      "10    PR               Paraná        Curitiba\n",
      "11    RS    Rio Grande do Sul    Porto Alegre\n"
     ]
    }
   ],
   "source": [
    "#definindo um novo indice para o dataframe agora comecando do numero 1\n",
    "df.index = pd.Index([1,2,3,4,5,6,7,8,9,10,11])\n",
    "print(df)\n"
   ]
  },
  {
   "cell_type": "code",
   "execution_count": 60,
   "metadata": {},
   "outputs": [
    {
     "name": "stdout",
     "output_type": "stream",
     "text": [
      "      Sigla                 Nome         Capital\n",
      "Sigla                                           \n",
      "PE       PE           Pernambuco          Recife\n",
      "RJ       RJ       Rio de Janeiro  Rio de Janeiro\n",
      "PB       PB              Paraíba     João Pessoa\n",
      "SP       SP            São Paulo       São Paulo\n",
      "MG       MG         Minas Gerais  Belo Horizonte\n",
      "CE       CE                Ceará       Fortaleza\n",
      "AC       AC                 Acre      Rio Branco\n",
      "MA       MA             Maranhão        São Luís\n",
      "RN       RN  Rio Grande do Norte           Natal\n",
      "PR       PR               Paraná        Curitiba\n",
      "RS       RS    Rio Grande do Sul    Porto Alegre\n"
     ]
    }
   ],
   "source": [
    "# ou ainda ... se quiser usar uma coluna como indice\n",
    "df.index = df['Sigla']\n",
    "print(df)"
   ]
  },
  {
   "cell_type": "code",
   "execution_count": 61,
   "metadata": {},
   "outputs": [
    {
     "name": "stdout",
     "output_type": "stream",
     "text": [
      "                      Nome         Capital\n",
      "Sigla                                     \n",
      "PE              Pernambuco          Recife\n",
      "RJ          Rio de Janeiro  Rio de Janeiro\n",
      "PB                 Paraíba     João Pessoa\n",
      "SP               São Paulo       São Paulo\n",
      "MG            Minas Gerais  Belo Horizonte\n",
      "CE                   Ceará       Fortaleza\n",
      "AC                    Acre      Rio Branco\n",
      "MA                Maranhão        São Luís\n",
      "RN     Rio Grande do Norte           Natal\n",
      "PR                  Paraná        Curitiba\n",
      "RS       Rio Grande do Sul    Porto Alegre\n"
     ]
    }
   ],
   "source": [
    "# estamos com a sigla dos estados no indice e na coluna vamos remover a coluna e ficar so com o indice\n",
    "del df['Sigla']\n",
    "print(df)"
   ]
  },
  {
   "cell_type": "code",
   "execution_count": 63,
   "metadata": {},
   "outputs": [
    {
     "data": {
      "text/plain": [
       "Nome       São Paulo\n",
       "Capital    São Paulo\n",
       "Name: SP, dtype: object"
      ]
     },
     "execution_count": 63,
     "metadata": {},
     "output_type": "execute_result"
    }
   ],
   "source": [
    "#acessando uma linha pelo novo indice\n",
    "df.loc['SP']"
   ]
  },
  {
   "cell_type": "code",
   "execution_count": null,
   "metadata": {},
   "outputs": [],
   "source": []
  }
 ],
 "metadata": {
  "kernelspec": {
   "display_name": "Python 3",
   "language": "python",
   "name": "python3"
  },
  "language_info": {
   "codemirror_mode": {
    "name": "ipython",
    "version": 3
   },
   "file_extension": ".py",
   "mimetype": "text/x-python",
   "name": "python",
   "nbconvert_exporter": "python",
   "pygments_lexer": "ipython3",
   "version": "3.6.8"
  }
 },
 "nbformat": 4,
 "nbformat_minor": 4
}
