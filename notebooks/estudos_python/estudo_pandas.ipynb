{
 "cells": [
  {
   "cell_type": "markdown",
   "metadata": {},
   "source": [
    "**Estudo Pandas**"
   ]
  },
  {
   "cell_type": "code",
   "execution_count": 30,
   "metadata": {},
   "outputs": [],
   "source": [
    "import pandas as pd\n",
    "import numpy as np"
   ]
  },
  {
   "cell_type": "markdown",
   "metadata": {},
   "source": [
    "<br>Serie basico"
   ]
  },
  {
   "cell_type": "code",
   "execution_count": 31,
   "metadata": {},
   "outputs": [
    {
     "name": "stdout",
     "output_type": "stream",
     "text": [
      "0      1\n",
      "1      3\n",
      "2      5\n",
      "3      8\n",
      "4      6\n",
      "5    110\n",
      "dtype: int64\n"
     ]
    }
   ],
   "source": [
    "#visualizando uma serie do pandas (primeira coluna = indice , segunda = valores)\n",
    "s= pd.Series([1,3,5,8,6,110])\n",
    "print(s)"
   ]
  },
  {
   "cell_type": "code",
   "execution_count": 32,
   "metadata": {},
   "outputs": [
    {
     "name": "stdout",
     "output_type": "stream",
     "text": [
      "1\n",
      "2    5\n",
      "3    8\n",
      "dtype: int64\n"
     ]
    }
   ],
   "source": [
    "#acessando o elemento1\n",
    "print(s[0])\n",
    "#acessando os elementos 3 e 4\n",
    "print(s[2:4])\n"
   ]
  },
  {
   "cell_type": "markdown",
   "metadata": {},
   "source": [
    "<br>Dados basicos da serie"
   ]
  },
  {
   "cell_type": "code",
   "execution_count": 33,
   "metadata": {},
   "outputs": [
    {
     "data": {
      "text/plain": [
       "count      6.000000\n",
       "mean      22.166667\n",
       "std       43.097177\n",
       "min        1.000000\n",
       "25%        3.500000\n",
       "50%        5.500000\n",
       "75%        7.500000\n",
       "max      110.000000\n",
       "dtype: float64"
      ]
     },
     "execution_count": 33,
     "metadata": {},
     "output_type": "execute_result"
    }
   ],
   "source": [
    "# mostrando dados estatisticos gerais da serie\n",
    "#\n",
    "#  mean = media\n",
    "#  std = desvio padrao ?\n",
    "#  median = mediana\n",
    "#\n",
    "#\n",
    "s.describe()"
   ]
  },
  {
   "cell_type": "code",
   "execution_count": 34,
   "metadata": {},
   "outputs": [
    {
     "name": "stdout",
     "output_type": "stream",
     "text": [
      "22.166666666666668\n",
      "5.5\n"
     ]
    }
   ],
   "source": [
    "#tambem e possivel chamar em separado\n",
    "print(s.mean())\n",
    "#mas tem outras coisas\n",
    "print(s.median())"
   ]
  },
  {
   "cell_type": "code",
   "execution_count": 35,
   "metadata": {},
   "outputs": [
    {
     "data": {
      "text/plain": [
       "0    False\n",
       "1    False\n",
       "2    False\n",
       "3    False\n",
       "4    False\n",
       "5    False\n",
       "dtype: bool"
      ]
     },
     "execution_count": 35,
     "metadata": {},
     "output_type": "execute_result"
    }
   ],
   "source": [
    "#tambem e possivel verificar se existem valores duplicados\n",
    "s.duplicated()"
   ]
  },
  {
   "cell_type": "code",
   "execution_count": 36,
   "metadata": {},
   "outputs": [
    {
     "name": "stdout",
     "output_type": "stream",
     "text": [
      "0      1\n",
      "1      3\n",
      "2      5\n",
      "3      8\n",
      "4      6\n",
      "5    110\n",
      "0      4\n",
      "1     99\n",
      "2      1\n",
      "dtype: int64\n"
     ]
    }
   ],
   "source": [
    "# uma outra possibilidade e apendar uma serie na outra\n",
    "s2= pd.Series([4,99,1])\n",
    "s3=s.append(s2)\n",
    "print(s3)\n"
   ]
  },
  {
   "cell_type": "code",
   "execution_count": 38,
   "metadata": {},
   "outputs": [
    {
     "name": "stdout",
     "output_type": "stream",
     "text": [
      "0      1\n",
      "1      3\n",
      "2      5\n",
      "3      8\n",
      "4      6\n",
      "5    110\n",
      "6      4\n",
      "7     99\n",
      "8      1\n",
      "dtype: int64\n"
     ]
    }
   ],
   "source": [
    "# no exemplo anterior os indices estao duplicados para evitar este comportamento e preciso usar o parametro \"ignore_index=True\"\n",
    "s4=s.append(s2,ignore_index=True)\n",
    "print(s4)"
   ]
  },
  {
   "cell_type": "code",
   "execution_count": null,
   "metadata": {},
   "outputs": [],
   "source": []
  }
 ],
 "metadata": {
  "kernelspec": {
   "display_name": "Python 3",
   "language": "python",
   "name": "python3"
  },
  "language_info": {
   "codemirror_mode": {
    "name": "ipython",
    "version": 3
   },
   "file_extension": ".py",
   "mimetype": "text/x-python",
   "name": "python",
   "nbconvert_exporter": "python",
   "pygments_lexer": "ipython3",
   "version": "3.6.8"
  }
 },
 "nbformat": 4,
 "nbformat_minor": 4
}
