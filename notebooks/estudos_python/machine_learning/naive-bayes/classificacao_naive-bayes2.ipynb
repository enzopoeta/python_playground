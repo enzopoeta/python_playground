{
 "cells": [
  {
   "cell_type": "markdown",
   "metadata": {},
   "source": [
    "**NAIVE BAYES**"
   ]
  },
  {
   "cell_type": "markdown",
   "metadata": {},
   "source": [
    "Baseado no teorema de bayes (análise probabilistica)\n",
    "\n",
    "Aplicações mais comuns :\n",
    "\n",
    "- Detecção de SPAN\n",
    "- Detecção de emoções em frases\n",
    "- Separação de documentos\n",
    "\n",
    "O naive bayes a partir da tabela de dados previsores gera uma tabela de probabilidades que é usada como base para classificar novos dados.\n",
    "\n",
    "Vantagens :\n",
    "\n",
    "- Rápido se comparado a abordagens mais complexas ( Ex: redes neurais )\n",
    "- Simples\n",
    "- Capaz de tabalhar com altas dimensões (atributos)\n",
    "- Boas previsões em bases de dados pequenas ( 400 - 1000 registros)\n",
    "\n",
    "Desvantagens :\n",
    "- Presume que os atributos previsores são totalmente independentes, o que nem sempre é verdade.\n",
    "\n"
   ]
  },
  {
   "cell_type": "code",
   "execution_count": 2,
   "metadata": {},
   "outputs": [
    {
     "data": {
      "text/plain": [
       "(2000, 5)"
      ]
     },
     "execution_count": 2,
     "metadata": {},
     "output_type": "execute_result"
    }
   ],
   "source": [
    "import pandas as pd\n",
    "import numpy as np\n",
    "\n",
    "from sklearn.preprocessing import LabelEncoder\n",
    "from sklearn.naive_bayes import GaussianNB\n",
    "from sklearn.impute import SimpleImputer\n",
    "from sklearn.preprocessing import StandardScaler\n",
    "from sklearn.model_selection import train_test_split\n",
    "from sklearn.preprocessing import StandardScaler\n",
    "from sklearn.metrics import confusion_matrix, accuracy_score, classification_report\n",
    "\n",
    "\n",
    "# carregando a base de dados de  credito\n",
    "base = pd.read_csv('../../res/credit-data.csv')\n",
    "#base = pd.read_csv('../../res/risco-credito.csv')\n",
    "base.shape\n"
   ]
  },
  {
   "cell_type": "code",
   "execution_count": 3,
   "metadata": {},
   "outputs": [
    {
     "name": "stdout",
     "output_type": "stream",
     "text": [
      "Eliminando as idades negativas\n",
      "\n",
      "antes :\n",
      "\n",
      "    clientid        income        age         loan  default\n",
      "15        16  50501.726689 -28.218361  3977.287432        0\n",
      "21        22  32197.620701 -52.423280  4244.057136        0\n",
      "26        27  63287.038908 -36.496976  9595.286289        0\n",
      "\n",
      "depois :\n",
      "\n",
      "    clientid        income      age         loan  default\n",
      "15        16  50501.726689  40.9277  3977.287432        0\n",
      "21        22  32197.620701  40.9277  4244.057136        0\n",
      "26        27  63287.038908  40.9277  9595.286289        0\n",
      "\n",
      "Eliminando registros NaN da base\n",
      "\n",
      "antes :\n",
      "\n",
      "    clientid        income  age         loan  default\n",
      "28        29  59417.805406  NaN  2082.625938        0\n",
      "30        31  48528.852796  NaN  6155.784670        0\n",
      "31        32  23526.302555  NaN  2862.010139        0\n",
      "\n",
      "depois : \n",
      "\n",
      "    clientid        income      age         loan  default\n",
      "28        29  59417.805406  40.9277  2082.625938        0\n",
      "30        31  48528.852796  40.9277  6155.784670        0\n",
      "31        32  23526.302555  40.9277  2862.010139        0\n"
     ]
    }
   ],
   "source": [
    "#efetuando correcoes nos dados de credito\n",
    "\n",
    "print('Eliminando as idades negativas\\n')\n",
    "\n",
    "#em alguns registros o campo idade possui numeros menores que zero\n",
    "regs =base.loc[base['age'] < 0] \n",
    "print('antes :\\n')\n",
    "print(base.iloc[regs.index])\n",
    "\n",
    "# calculando a media dos valores nao negativos do campo idade\n",
    "media = base[base['age']>0]['age'].mean()\n",
    "\n",
    "#setando os valores negativos com o valor da media dos nao negativos\n",
    "base.loc[base.age < 0, 'age'] = media\n",
    "\n",
    "print('\\ndepois :\\n')\n",
    "print(base.iloc[regs.index])\n",
    "\n",
    "print('\\nEliminando registros NaN da base\\n')\n",
    "print('antes :\\n')\n",
    "\n",
    "\n",
    "regs=base.loc[pd.isnull(base).any(axis=1)]\n",
    "print(base.iloc[regs.index])\n",
    "\n",
    "for column in base.columns:\n",
    "    base[column].fillna(base[column].mean(),inplace=True)\n",
    "\n",
    "print('\\ndepois : \\n')\n",
    "print(base.iloc[regs.index])"
   ]
  },
  {
   "cell_type": "code",
   "execution_count": 4,
   "metadata": {},
   "outputs": [
    {
     "name": "stdout",
     "output_type": "stream",
     "text": [
      "[0 1]\n",
      "previsores treinamento /teste  (1500, 3) (500, 3)\n",
      "classificadores treinamento /teste  (1500,) (500,)\n"
     ]
    }
   ],
   "source": [
    "# separando previsores e classificadores\n",
    "previsores = base.iloc[:, 1:4].values\n",
    "classificadores = base.iloc[:, 4].values\n",
    "\n",
    "print ( base.iloc[:, 4].unique())\n",
    "\n",
    "# padronizando os valores dos previsores\n",
    "scaler = StandardScaler()\n",
    "previsores = scaler.fit_transform(previsores)\n",
    "\n",
    "# separando os valores de teste e treinamento \n",
    "previsores_treinamento, previsores_teste, classificadores_treinamento, classificadores_teste = train_test_split(previsores, classificadores, test_size=0.25, random_state=0)\n",
    "\n",
    "print (\"previsores treinamento /teste \",previsores_treinamento.shape,previsores_teste.shape)\n",
    "print (\"classificadores treinamento /teste \",classificadores_treinamento.shape,classificadores_teste.shape)"
   ]
  },
  {
   "cell_type": "code",
   "execution_count": 5,
   "metadata": {},
   "outputs": [],
   "source": [
    "# instanciando o naive bayes com o scikit\n",
    "classificador = GaussianNB()\n",
    "classificador.fit(previsores_treinamento, classificadores_treinamento)\n",
    "\n",
    "# rodando previsoes com o dado de teste\n",
    "previsoes = classificador.predict(previsores_teste)"
   ]
  },
  {
   "cell_type": "code",
   "execution_count": 6,
   "metadata": {},
   "outputs": [
    {
     "name": "stdout",
     "output_type": "stream",
     "text": [
      "Precisão:\n",
      "\n",
      "0.938\n",
      "\n",
      "Matriz de confusão:\n",
      "\n",
      "[[428   8]\n",
      " [ 23  41]]\n",
      "\n",
      "Report:\n",
      "\n",
      "              precision    recall  f1-score   support\n",
      "\n",
      "           0       0.95      0.98      0.97       436\n",
      "           1       0.84      0.64      0.73        64\n",
      "\n",
      "    accuracy                           0.94       500\n",
      "   macro avg       0.89      0.81      0.85       500\n",
      "weighted avg       0.93      0.94      0.93       500\n",
      "\n"
     ]
    }
   ],
   "source": [
    "#testes dessa instancia algoritimo\n",
    "\n",
    "# o dado de precisao per se nao quer dizer muita coisa e preciso verificar outras metricas\n",
    "precisao = accuracy_score(classificadores_teste, previsoes)\n",
    "\n",
    "# uma dessas metricas eh a matriz de confusao ... ela e capaz de mostrar o desempenho do algoritimo para cada classe \n",
    "matriz = confusion_matrix(classificadores_teste, previsoes)\n",
    "\n",
    "#o scikit tambem possui uma classe utilitaria que prove um report mais detalhado...\n",
    "report = classification_report(classificadores_teste, previsoes)\n",
    "\n",
    "print(\"Precisão:\\n\")\n",
    "print(precisao)\n",
    "print(\"\\nMatriz de confusão:\\n\")\n",
    "print(matriz)\n",
    "print(\"\\nReport:\\n\")\n",
    "print (report)"
   ]
  }
 ],
 "metadata": {
  "kernelspec": {
   "display_name": "Python 3",
   "language": "python",
   "name": "python3"
  },
  "language_info": {
   "codemirror_mode": {
    "name": "ipython",
    "version": 3
   },
   "file_extension": ".py",
   "mimetype": "text/x-python",
   "name": "python",
   "nbconvert_exporter": "python",
   "pygments_lexer": "ipython3",
   "version": "3.6.8"
  }
 },
 "nbformat": 4,
 "nbformat_minor": 4
}
