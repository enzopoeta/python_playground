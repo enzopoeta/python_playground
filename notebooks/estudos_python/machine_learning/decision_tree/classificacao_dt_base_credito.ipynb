{
 "cells": [
  {
   "cell_type": "markdown",
   "metadata": {},
   "source": [
    "**Decision Tree**"
   ]
  },
  {
   "cell_type": "markdown",
   "metadata": {},
   "source": [
    "O Algorítimo cria uma árvore de decisão baseado nos dados de treinamento para classificar novos registros\n",
    "\n",
    "Vantagens :\n",
    "\n",
    "- Fácil interpretação / entendimento\n",
    "- Os dados não precisam ser normalizados ou padronizados para treinar o modelo\n",
    "- Bastante rápido para classificar novos registros\n",
    "\n",
    "\n",
    "Desvantagens :\n",
    "- Potencial para a criação de árvores muito complexas (lembrando que a construção da mesma problema np-completo)\n",
    "- Tem problemas de variância (pouca sensibilidade a mudanças na base de treinamento o que acaba levando a overfiting). As vezes é preciso \"podar\" a base de treinamento\n"
   ]
  },
  {
   "cell_type": "code",
   "execution_count": 82,
   "metadata": {},
   "outputs": [
    {
     "data": {
      "text/plain": [
       "(2000, 5)"
      ]
     },
     "execution_count": 82,
     "metadata": {},
     "output_type": "execute_result"
    }
   ],
   "source": [
    "import pandas as pd\n",
    "import numpy as np\n",
    "\n",
    "from sklearn.preprocessing import LabelEncoder\n",
    "from sklearn.naive_bayes import GaussianNB\n",
    "\n",
    "from sklearn.impute import SimpleImputer\n",
    "from sklearn.preprocessing import StandardScaler\n",
    "from sklearn.model_selection import train_test_split\n",
    "from sklearn.preprocessing import StandardScaler\n",
    "from sklearn.metrics import confusion_matrix, accuracy_score, classification_report\n",
    "from sklearn.tree import DecisionTreeClassifier\n",
    "import matplotlib.pyplot as plt\n",
    "import seaborn as sns\n",
    "import numpy as np\n",
    "\n",
    "\n",
    "# carregando a base de dados de  credito\n",
    "base = pd.read_csv('../../res/credit-data.csv')\n",
    "#base = pd.read_csv('../../res/risco-credito.csv')\n",
    "base.shape\n",
    "#base\n"
   ]
  },
  {
   "cell_type": "code",
   "execution_count": 83,
   "metadata": {},
   "outputs": [
    {
     "name": "stdout",
     "output_type": "stream",
     "text": [
      "Eliminando as idades negativas\n",
      "\n",
      "antes :\n",
      "\n",
      "    clientid        income        age         loan  default\n",
      "15        16  50501.726689 -28.218361  3977.287432        0\n",
      "21        22  32197.620701 -52.423280  4244.057136        0\n",
      "26        27  63287.038908 -36.496976  9595.286289        0\n",
      "\n",
      "depois :\n",
      "\n",
      "    clientid        income      age         loan  default\n",
      "15        16  50501.726689  40.9277  3977.287432        0\n",
      "21        22  32197.620701  40.9277  4244.057136        0\n",
      "26        27  63287.038908  40.9277  9595.286289        0\n",
      "\n",
      "Eliminando registros NaN da base\n",
      "\n",
      "antes :\n",
      "\n",
      "    clientid        income  age         loan  default\n",
      "28        29  59417.805406  NaN  2082.625938        0\n",
      "30        31  48528.852796  NaN  6155.784670        0\n",
      "31        32  23526.302555  NaN  2862.010139        0\n",
      "\n",
      "depois : \n",
      "\n",
      "    clientid        income      age         loan  default\n",
      "28        29  59417.805406  40.9277  2082.625938        0\n",
      "30        31  48528.852796  40.9277  6155.784670        0\n",
      "31        32  23526.302555  40.9277  2862.010139        0\n"
     ]
    }
   ],
   "source": [
    "#efetuando correcoes nos dados de credito\n",
    "\n",
    "print('Eliminando as idades negativas\\n')\n",
    "\n",
    "#em alguns registros o campo idade possui numeros menores que zero\n",
    "regs =base.loc[base['age'] < 0] \n",
    "print('antes :\\n')\n",
    "print(base.iloc[regs.index])\n",
    "\n",
    "# calculando a media dos valores nao negativos do campo idade\n",
    "media = base[base['age']>0]['age'].mean()\n",
    "\n",
    "#setando os valores negativos com o valor da media dos nao negativos\n",
    "base.loc[base.age < 0, 'age'] = media\n",
    "\n",
    "print('\\ndepois :\\n')\n",
    "print(base.iloc[regs.index])\n",
    "\n",
    "print('\\nEliminando registros NaN da base\\n')\n",
    "print('antes :\\n')\n",
    "\n",
    "\n",
    "regs=base.loc[pd.isnull(base).any(axis=1)]\n",
    "print(base.iloc[regs.index])\n",
    "\n",
    "for column in base.columns:\n",
    "    base[column].fillna(base[column].mean(),inplace=True)\n",
    "\n",
    "print('\\ndepois : \\n')\n",
    "print(base.iloc[regs.index])"
   ]
  },
  {
   "cell_type": "code",
   "execution_count": 84,
   "metadata": {},
   "outputs": [
    {
     "data": {
      "image/png": "[encoded data removed]",
      "text/plain": [
       "<Figure size 936x576 with 2 Axes>"
      ]
     },
     "metadata": {
      "needs_background": "light"
     },
     "output_type": "display_data"
    }
   ],
   "source": [
    "# Criando uma tabela de correlacao de pearson para entender a correlacao entre as variaveis\n",
    "# Como existem poucas features qualquer remoção prejudica a performance do algoritimo\n",
    "\n",
    "corr = base[['income','age','loan','default']].corr()\n",
    "ds=len(base.columns)-1\n",
    "\n",
    "\n",
    "cmap = sns.diverging_palette(10, 255, as_cmap=True)\n",
    "\n",
    "plt.figure(figsize=(13, 8))\n",
    "plt.subplot(1, 2, 1)\n",
    "plt.title(\"Pearson Correlation\")\n",
    "ax = sns.heatmap(corr, cmap=cmap, vmax=.3, center=0,\n",
    "            square=True, linewidths=1, annot=True, cbar_kws={\"shrink\": .5})\n",
    "ax.set_ylim(ds, 0)\n",
    "\n",
    "plt.tight_layout()\n",
    "plt.show()\n"
   ]
  },
  {
   "cell_type": "code",
   "execution_count": 85,
   "metadata": {},
   "outputs": [
    {
     "name": "stdout",
     "output_type": "stream",
     "text": [
      "previsores treinamento /teste  (1500, 3) (500, 3)\n",
      "classificadores treinamento /teste  (1500,) (500,)\n"
     ]
    }
   ],
   "source": [
    "# separando previsores e classificadores\n",
    "previsores = base.iloc[:, 1:4].values\n",
    "#print(previsores)\n",
    "classificadores = base.iloc[:, 4].values\n",
    "\n",
    "#print ( base.iloc[:, 4].unique())\n",
    "\n",
    "# padronizando os valores dos previsores\n",
    "scaler = StandardScaler()\n",
    "previsores = scaler.fit_transform(previsores)\n",
    "\n",
    "# separando os valores de teste e treinamento \n",
    "previsores_treinamento, previsores_teste, classificadores_treinamento, classificadores_teste = train_test_split(previsores, classificadores, test_size=0.25, random_state=0)\n",
    "\n",
    "print (\"previsores treinamento /teste \",previsores_treinamento.shape,previsores_teste.shape)\n",
    "print (\"classificadores treinamento /teste \",classificadores_treinamento.shape,classificadores_teste.shape)"
   ]
  },
  {
   "cell_type": "code",
   "execution_count": 86,
   "metadata": {},
   "outputs": [
    {
     "name": "stdout",
     "output_type": "stream",
     "text": [
      "[0.20691161 0.40032162 0.39276678]\n"
     ]
    }
   ],
   "source": [
    "# instanciando a decision tree com o scikit\n",
    "#classificador = GaussianNB()\n",
    "#classificador.fit(previsores_treinamento, classificadores_treinamento)\n",
    "classificador = DecisionTreeClassifier(criterion='entropy')\n",
    "classificador.fit(previsores_treinamento, classificadores_treinamento)\n",
    "\n",
    "#verificando a importancia de cada feature para o algoritimo\n",
    "print(classificador.feature_importances_)\n",
    "\n",
    "\n",
    "\n",
    "# rodando previsoes com o dado de teste\n",
    "previsoes = classificador.predict(previsores_teste)"
   ]
  },
  {
   "cell_type": "code",
   "execution_count": 87,
   "metadata": {},
   "outputs": [
    {
     "name": "stdout",
     "output_type": "stream",
     "text": [
      "Precisão:\n",
      "\n",
      "0.984\n",
      "\n",
      "Matriz de confusão:\n",
      "\n",
      "[[430   6]\n",
      " [  2  62]]\n",
      "\n",
      "Report:\n",
      "\n",
      "              precision    recall  f1-score   support\n",
      "\n",
      "           0       1.00      0.99      0.99       436\n",
      "           1       0.91      0.97      0.94        64\n",
      "\n",
      "    accuracy                           0.98       500\n",
      "   macro avg       0.95      0.98      0.97       500\n",
      "weighted avg       0.98      0.98      0.98       500\n",
      "\n"
     ]
    }
   ],
   "source": [
    "#testes dessa instancia algoritimo\n",
    "\n",
    "# o dado de precisao per se nao quer dizer muita coisa e preciso verificar outras metricas\n",
    "precisao = accuracy_score(classificadores_teste, previsoes)\n",
    "\n",
    "# uma dessas metricas eh a matriz de confusao ... ela e capaz de mostrar o desempenho do algoritimo para cada classe \n",
    "matriz = confusion_matrix(classificadores_teste, previsoes)\n",
    "\n",
    "#o scikit tambem possui uma classe utilitaria que prove um report mais detalhado...\n",
    "report = classification_report(classificadores_teste, previsoes)\n",
    "\n",
    "print(\"Precisão:\\n\")\n",
    "print(precisao)\n",
    "print(\"\\nMatriz de confusão:\\n\")\n",
    "print(matriz)\n",
    "print(\"\\nReport:\\n\")\n",
    "print (report)"
   ]
  }
 ],
 "metadata": {
  "kernelspec": {
   "display_name": "Python 3",
   "language": "python",
   "name": "python3"
  },
  "language_info": {
   "codemirror_mode": {
    "name": "ipython",
    "version": 3
   },
   "file_extension": ".py",
   "mimetype": "text/x-python",
   "name": "python",
   "nbconvert_exporter": "python",
   "pygments_lexer": "ipython3",
   "version": "3.6.8"
  }
 },
 "nbformat": 4,
 "nbformat_minor": 4
}
