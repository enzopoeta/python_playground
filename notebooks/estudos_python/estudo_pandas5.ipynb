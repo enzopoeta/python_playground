{
 "cells": [
  {
   "cell_type": "markdown",
   "metadata": {},
   "source": [
    "<br>**Series temporais com Pandas**"
   ]
  },
  {
   "cell_type": "code",
   "execution_count": 27,
   "metadata": {},
   "outputs": [
    {
     "name": "stderr",
     "output_type": "stream",
     "text": [
      "Indexing schema. This will take a second...finished!\n",
      "Refreshing schema. Please wait...done!\n"
     ]
    },
    {
     "data": {
      "text/html": [
       "<table>\n",
       "    <tr>\n",
       "        <th>Schema</th>\n",
       "        <th>Table</th>\n",
       "        <th>Columns</th>\n",
       "    </tr>\n",
       "    <tr>\n",
       "        <td>public</td>\n",
       "        <td>log</td>\n",
       "        <td>id, path, user_id, date</td>\n",
       "    </tr>\n",
       "</table>"
      ],
      "text/plain": [
       "+--------+-------+-------------------------+\n",
       "| Schema | Table | Columns                 |\n",
       "+--------+-------+-------------------------+\n",
       "| public | log   | id, path, user_id, date |\n",
       "+--------+-------+-------------------------+"
      ]
     },
     "execution_count": 27,
     "metadata": {},
     "output_type": "execute_result"
    }
   ],
   "source": [
    "# Carregando um arquivo  de logs no formato do sqlite\n",
    "import pandas as pd\n",
    "from db import DB\n",
    "\n",
    "database = DB(filename='res/logs.sqlite3',dbtype='sqlite')\n",
    "database.tables"
   ]
  },
  {
   "cell_type": "code",
   "execution_count": 28,
   "metadata": {},
   "outputs": [
    {
     "data": {
      "text/html": [
       "<div>\n",
       "<style scoped>\n",
       "    .dataframe tbody tr th:only-of-type {\n",
       "        vertical-align: middle;\n",
       "    }\n",
       "\n",
       "    .dataframe tbody tr th {\n",
       "        vertical-align: top;\n",
       "    }\n",
       "\n",
       "    .dataframe thead th {\n",
       "        text-align: right;\n",
       "    }\n",
       "</style>\n",
       "<table border=\"1\" class=\"dataframe\">\n",
       "  <thead>\n",
       "    <tr style=\"text-align: right;\">\n",
       "      <th></th>\n",
       "      <th>id</th>\n",
       "      <th>path</th>\n",
       "      <th>user_id</th>\n",
       "      <th>date</th>\n",
       "    </tr>\n",
       "  </thead>\n",
       "  <tbody>\n",
       "    <tr>\n",
       "      <th>0</th>\n",
       "      <td>1</td>\n",
       "      <td>/</td>\n",
       "      <td>3</td>\n",
       "      <td>2017-01-03T11:41:00</td>\n",
       "    </tr>\n",
       "    <tr>\n",
       "      <th>1</th>\n",
       "      <td>2</td>\n",
       "      <td>/pandas/</td>\n",
       "      <td>4</td>\n",
       "      <td>2017-01-03T11:37:00</td>\n",
       "    </tr>\n",
       "    <tr>\n",
       "      <th>2</th>\n",
       "      <td>3</td>\n",
       "      <td>/videos/</td>\n",
       "      <td>5</td>\n",
       "      <td>2017-01-03T10:47:00</td>\n",
       "    </tr>\n",
       "    <tr>\n",
       "      <th>3</th>\n",
       "      <td>4</td>\n",
       "      <td>/</td>\n",
       "      <td>2</td>\n",
       "      <td>2017-01-03T11:51:00</td>\n",
       "    </tr>\n",
       "    <tr>\n",
       "      <th>4</th>\n",
       "      <td>5</td>\n",
       "      <td>/python-para-zumbis/</td>\n",
       "      <td>5</td>\n",
       "      <td>2017-01-03T10:32:00</td>\n",
       "    </tr>\n",
       "  </tbody>\n",
       "</table>\n",
       "</div>"
      ],
      "text/plain": [
       "   id                  path  user_id                 date\n",
       "0   1                     /        3  2017-01-03T11:41:00\n",
       "1   2              /pandas/        4  2017-01-03T11:37:00\n",
       "2   3              /videos/        5  2017-01-03T10:47:00\n",
       "3   4                     /        2  2017-01-03T11:51:00\n",
       "4   5  /python-para-zumbis/        5  2017-01-03T10:32:00"
      ]
     },
     "execution_count": 28,
     "metadata": {},
     "output_type": "execute_result"
    }
   ],
   "source": [
    "logs = database.tables.log.all()\n",
    "logs.head()"
   ]
  },
  {
   "cell_type": "code",
   "execution_count": 29,
   "metadata": {},
   "outputs": [
    {
     "data": {
      "text/plain": [
       "id          int64\n",
       "path       object\n",
       "user_id     int64\n",
       "date       object\n",
       "dtype: object"
      ]
     },
     "execution_count": 29,
     "metadata": {},
     "output_type": "execute_result"
    }
   ],
   "source": [
    "# ao verificar os tipos de dados do df podemos constatar que a coluna 'data' nao eh do tipo data entao eh necessário fazer uma conversão\n",
    "logs.dtypes"
   ]
  },
  {
   "cell_type": "code",
   "execution_count": 30,
   "metadata": {},
   "outputs": [
    {
     "data": {
      "text/plain": [
       "id                  int64\n",
       "path               object\n",
       "user_id             int64\n",
       "date       datetime64[ns]\n",
       "dtype: object"
      ]
     },
     "execution_count": 30,
     "metadata": {},
     "output_type": "execute_result"
    }
   ],
   "source": [
    "logs['date'] = pd.to_datetime(logs['date'],format='%Y-%m-%d %H:%M:%S.%f')\n",
    "logs.dtypes"
   ]
  },
  {
   "cell_type": "code",
   "execution_count": 31,
   "metadata": {},
   "outputs": [
    {
     "data": {
      "text/html": [
       "<div>\n",
       "<style scoped>\n",
       "    .dataframe tbody tr th:only-of-type {\n",
       "        vertical-align: middle;\n",
       "    }\n",
       "\n",
       "    .dataframe tbody tr th {\n",
       "        vertical-align: top;\n",
       "    }\n",
       "\n",
       "    .dataframe thead th {\n",
       "        text-align: right;\n",
       "    }\n",
       "</style>\n",
       "<table border=\"1\" class=\"dataframe\">\n",
       "  <thead>\n",
       "    <tr style=\"text-align: right;\">\n",
       "      <th></th>\n",
       "      <th>id</th>\n",
       "      <th>path</th>\n",
       "      <th>user_id</th>\n",
       "    </tr>\n",
       "    <tr>\n",
       "      <th>date</th>\n",
       "      <th></th>\n",
       "      <th></th>\n",
       "      <th></th>\n",
       "    </tr>\n",
       "  </thead>\n",
       "  <tbody>\n",
       "    <tr>\n",
       "      <th>2017-01-03 11:41:00</th>\n",
       "      <td>1</td>\n",
       "      <td>/</td>\n",
       "      <td>3</td>\n",
       "    </tr>\n",
       "    <tr>\n",
       "      <th>2017-01-03 11:37:00</th>\n",
       "      <td>2</td>\n",
       "      <td>/pandas/</td>\n",
       "      <td>4</td>\n",
       "    </tr>\n",
       "    <tr>\n",
       "      <th>2017-01-03 10:47:00</th>\n",
       "      <td>3</td>\n",
       "      <td>/videos/</td>\n",
       "      <td>5</td>\n",
       "    </tr>\n",
       "    <tr>\n",
       "      <th>2017-01-03 11:51:00</th>\n",
       "      <td>4</td>\n",
       "      <td>/</td>\n",
       "      <td>2</td>\n",
       "    </tr>\n",
       "    <tr>\n",
       "      <th>2017-01-03 10:32:00</th>\n",
       "      <td>5</td>\n",
       "      <td>/python-para-zumbis/</td>\n",
       "      <td>5</td>\n",
       "    </tr>\n",
       "  </tbody>\n",
       "</table>\n",
       "</div>"
      ],
      "text/plain": [
       "                     id                  path  user_id\n",
       "date                                                  \n",
       "2017-01-03 11:41:00   1                     /        3\n",
       "2017-01-03 11:37:00   2              /pandas/        4\n",
       "2017-01-03 10:47:00   3              /videos/        5\n",
       "2017-01-03 11:51:00   4                     /        2\n",
       "2017-01-03 10:32:00   5  /python-para-zumbis/        5"
      ]
     },
     "execution_count": 31,
     "metadata": {},
     "output_type": "execute_result"
    }
   ],
   "source": [
    "# agora podemos adicionar um indice no campo data para otimizar a busca ( a partir de agora nosso indice eh o campo date e nao mais o serial)\n",
    "logs.set_index(['date'],inplace=True)\n",
    "logs.head()"
   ]
  },
  {
   "cell_type": "code",
   "execution_count": 35,
   "metadata": {},
   "outputs": [
    {
     "data": {
      "text/plain": [
       "300"
      ]
     },
     "execution_count": 35,
     "metadata": {},
     "output_type": "execute_result"
    }
   ],
   "source": [
    "# neste momento podemos pesquisar utilizando parametros de data como por exemplo pequisar o numero de registros de registros de 2017\n",
    "logs['2017'].size"
   ]
  },
  {
   "cell_type": "code",
   "execution_count": 40,
   "metadata": {},
   "outputs": [
    {
     "data": {
      "text/plain": [
       "108"
      ]
     },
     "execution_count": 40,
     "metadata": {},
     "output_type": "execute_result"
    }
   ],
   "source": [
    "# ou so numero de registros do dia 3/1/2017 as 10 horas\n",
    "logs['2017-01-03 10'].size"
   ]
  },
  {
   "cell_type": "code",
   "execution_count": 42,
   "metadata": {},
   "outputs": [
    {
     "data": {
      "text/html": [
       "<div>\n",
       "<style scoped>\n",
       "    .dataframe tbody tr th:only-of-type {\n",
       "        vertical-align: middle;\n",
       "    }\n",
       "\n",
       "    .dataframe tbody tr th {\n",
       "        vertical-align: top;\n",
       "    }\n",
       "\n",
       "    .dataframe thead th {\n",
       "        text-align: right;\n",
       "    }\n",
       "</style>\n",
       "<table border=\"1\" class=\"dataframe\">\n",
       "  <thead>\n",
       "    <tr style=\"text-align: right;\">\n",
       "      <th></th>\n",
       "      <th>id</th>\n",
       "      <th>path</th>\n",
       "      <th>user_id</th>\n",
       "    </tr>\n",
       "    <tr>\n",
       "      <th>date</th>\n",
       "      <th></th>\n",
       "      <th></th>\n",
       "      <th></th>\n",
       "    </tr>\n",
       "  </thead>\n",
       "  <tbody>\n",
       "    <tr>\n",
       "      <th>2017-01-03 10:37:00</th>\n",
       "      <td>31</td>\n",
       "      <td>/pandas/</td>\n",
       "      <td>2</td>\n",
       "    </tr>\n",
       "    <tr>\n",
       "      <th>2017-01-03 10:36:00</th>\n",
       "      <td>48</td>\n",
       "      <td>/django-ecommerce/</td>\n",
       "      <td>4</td>\n",
       "    </tr>\n",
       "    <tr>\n",
       "      <th>2017-01-03 10:36:00</th>\n",
       "      <td>59</td>\n",
       "      <td>/python-para-zumbis/</td>\n",
       "      <td>5</td>\n",
       "    </tr>\n",
       "    <tr>\n",
       "      <th>2017-01-03 10:36:00</th>\n",
       "      <td>81</td>\n",
       "      <td>/pandas/</td>\n",
       "      <td>2</td>\n",
       "    </tr>\n",
       "  </tbody>\n",
       "</table>\n",
       "</div>"
      ],
      "text/plain": [
       "                     id                  path  user_id\n",
       "date                                                  \n",
       "2017-01-03 10:37:00  31              /pandas/        2\n",
       "2017-01-03 10:36:00  48    /django-ecommerce/        4\n",
       "2017-01-03 10:36:00  59  /python-para-zumbis/        5\n",
       "2017-01-03 10:36:00  81              /pandas/        2"
      ]
     },
     "execution_count": 42,
     "metadata": {},
     "output_type": "execute_result"
    }
   ],
   "source": [
    "# ou mesmo um slice para rescuperar os registros em um intervalo de horarios\n",
    "logs['2017-01-03 10:35:01':'2017-01-03 10:37']"
   ]
  },
  {
   "cell_type": "code",
   "execution_count": null,
   "metadata": {},
   "outputs": [],
   "source": []
  }
 ],
 "metadata": {
  "kernelspec": {
   "display_name": "Python 3",
   "language": "python",
   "name": "python3"
  },
  "language_info": {
   "codemirror_mode": {
    "name": "ipython",
    "version": 3
   },
   "file_extension": ".py",
   "mimetype": "text/x-python",
   "name": "python",
   "nbconvert_exporter": "python",
   "pygments_lexer": "ipython3",
   "version": "3.6.8"
  }
 },
 "nbformat": 4,
 "nbformat_minor": 4
}
