{
 "cells": [
  {
   "cell_type": "markdown",
   "metadata": {},
   "source": [
    "<br>**Quando temos diferencas de escala muito grandes em valores de certas bases de dados a performance dos algoritimos normalmente eh prejudicada\n",
    "portanto é importante padronizar ou normalizar os dados do dataset**"
   ]
  },
  {
   "cell_type": "code",
   "execution_count": 9,
   "metadata": {},
   "outputs": [
    {
     "data": {
      "text/plain": [
       "0     544\n",
       "1    2387\n",
       "2    2694\n",
       "3    5290\n",
       "4     222\n",
       "Name: votes, dtype: int64"
      ]
     },
     "execution_count": 9,
     "metadata": {},
     "output_type": "execute_result"
    }
   ],
   "source": [
    "from sklearn.preprocessing import StandardScaler\n",
    "import pandas as pd\n",
    "\n",
    "#utilizando os dados os dados das primarias americanas\n",
    "presults=pd.read_csv('res/primary-results.csv')\n",
    "\n",
    "#verificando os dados dos votos antes da transformacao\n",
    "presults['votes'].head()\n"
   ]
  },
  {
   "cell_type": "code",
   "execution_count": 20,
   "metadata": {},
   "outputs": [
    {
     "data": {
      "text/plain": [
       "0   -0.178710\n",
       "1    0.008189\n",
       "2    0.039321\n",
       "3    0.302581\n",
       "4   -0.211364\n",
       "Name: votes, dtype: float64"
      ]
     },
     "execution_count": 20,
     "metadata": {},
     "output_type": "execute_result"
    }
   ],
   "source": [
    "#criando o objeto scaler\n",
    "scaler = StandardScaler()\n",
    "\n",
    "#padronizando os dados de votes e exibindo o resultado\n",
    "presults['votes']=scaler.fit_transform(presults['votes'].values.reshape(-1,1))\n",
    "presults['votes'].head()"
   ]
  },
  {
   "cell_type": "code",
   "execution_count": null,
   "metadata": {},
   "outputs": [],
   "source": []
  }
 ],
 "metadata": {
  "kernelspec": {
   "display_name": "Python 3",
   "language": "python",
   "name": "python3"
  },
  "language_info": {
   "codemirror_mode": {
    "name": "ipython",
    "version": 3
   },
   "file_extension": ".py",
   "mimetype": "text/x-python",
   "name": "python",
   "nbconvert_exporter": "python",
   "pygments_lexer": "ipython3",
   "version": "3.6.8"
  }
 },
 "nbformat": 4,
 "nbformat_minor": 4
}
